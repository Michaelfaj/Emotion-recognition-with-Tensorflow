{
 "cells": [
  {
   "cell_type": "code",
   "execution_count": 1,
   "id": "2d33775c",
   "metadata": {
    "collapsed": true
   },
   "outputs": [
    {
     "name": "stdout",
     "output_type": "stream",
     "text": [
      "Requirement already satisfied: tensorflow in c:\\users\\user\\anaconda3\\lib\\site-packages (2.10.0)\n",
      "Requirement already satisfied: pandas in c:\\users\\user\\anaconda3\\lib\\site-packages (1.1.5)\n",
      "Requirement already satisfied: numpy in c:\\users\\user\\anaconda3\\lib\\site-packages (1.20.3)\n",
      "Requirement already satisfied: matplotlib in c:\\users\\user\\anaconda3\\lib\\site-packages (3.4.3)\n",
      "Requirement already satisfied: opencv-python in c:\\users\\user\\anaconda3\\lib\\site-packages (4.10.0.84)\n",
      "Requirement already satisfied: absl-py>=1.0.0 in c:\\users\\user\\anaconda3\\lib\\site-packages (from tensorflow) (1.3.0)\n",
      "Requirement already satisfied: astunparse>=1.6.0 in c:\\users\\user\\anaconda3\\lib\\site-packages (from tensorflow) (1.6.3)\n",
      "Requirement already satisfied: flatbuffers>=2.0 in c:\\users\\user\\anaconda3\\lib\\site-packages (from tensorflow) (22.10.26)\n",
      "Requirement already satisfied: gast<=0.4.0,>=0.2.1 in c:\\users\\user\\anaconda3\\lib\\site-packages (from tensorflow) (0.4.0)\n",
      "Requirement already satisfied: google-pasta>=0.1.1 in c:\\users\\user\\anaconda3\\lib\\site-packages (from tensorflow) (0.2.0)\n",
      "Requirement already satisfied: h5py>=2.9.0 in c:\\users\\user\\anaconda3\\lib\\site-packages (from tensorflow) (3.2.1)\n",
      "Requirement already satisfied: keras-preprocessing>=1.1.1 in c:\\users\\user\\anaconda3\\lib\\site-packages (from tensorflow) (1.1.2)\n",
      "Requirement already satisfied: libclang>=13.0.0 in c:\\users\\user\\anaconda3\\lib\\site-packages (from tensorflow) (14.0.6)\n",
      "Requirement already satisfied: opt-einsum>=2.3.2 in c:\\users\\user\\anaconda3\\lib\\site-packages (from tensorflow) (3.3.0)\n",
      "Requirement already satisfied: packaging in c:\\users\\user\\anaconda3\\lib\\site-packages (from tensorflow) (21.0)\n",
      "Requirement already satisfied: protobuf<3.20,>=3.9.2 in c:\\users\\user\\anaconda3\\lib\\site-packages (from tensorflow) (3.19.6)\n",
      "Requirement already satisfied: setuptools in c:\\users\\user\\anaconda3\\lib\\site-packages (from tensorflow) (65.3.0)\n",
      "Requirement already satisfied: six>=1.12.0 in c:\\users\\user\\anaconda3\\lib\\site-packages (from tensorflow) (1.16.0)\n",
      "Requirement already satisfied: termcolor>=1.1.0 in c:\\users\\user\\anaconda3\\lib\\site-packages (from tensorflow) (2.1.0)\n",
      "Requirement already satisfied: typing-extensions>=3.6.6 in c:\\users\\user\\anaconda3\\lib\\site-packages (from tensorflow) (3.10.0.2)\n",
      "Requirement already satisfied: wrapt>=1.11.0 in c:\\users\\user\\anaconda3\\lib\\site-packages (from tensorflow) (1.12.1)\n",
      "Requirement already satisfied: tensorflow-io-gcs-filesystem>=0.23.1 in c:\\users\\user\\anaconda3\\lib\\site-packages (from tensorflow) (0.27.0)\n",
      "Requirement already satisfied: grpcio<2.0,>=1.24.3 in c:\\users\\user\\anaconda3\\lib\\site-packages (from tensorflow) (1.50.0)\n",
      "Requirement already satisfied: tensorboard<2.11,>=2.10 in c:\\users\\user\\anaconda3\\lib\\site-packages (from tensorflow) (2.10.1)\n",
      "Requirement already satisfied: tensorflow-estimator<2.11,>=2.10.0 in c:\\users\\user\\anaconda3\\lib\\site-packages (from tensorflow) (2.10.0)\n",
      "Requirement already satisfied: keras<2.11,>=2.10.0 in c:\\users\\user\\anaconda3\\lib\\site-packages (from tensorflow) (2.10.0)\n",
      "Requirement already satisfied: python-dateutil>=2.7.3 in c:\\users\\user\\anaconda3\\lib\\site-packages (from pandas) (2.8.2)\n",
      "Requirement already satisfied: pytz>=2017.2 in c:\\users\\user\\anaconda3\\lib\\site-packages (from pandas) (2021.3)\n",
      "Requirement already satisfied: cycler>=0.10 in c:\\users\\user\\anaconda3\\lib\\site-packages (from matplotlib) (0.10.0)\n",
      "Requirement already satisfied: kiwisolver>=1.0.1 in c:\\users\\user\\anaconda3\\lib\\site-packages (from matplotlib) (1.3.1)\n",
      "Requirement already satisfied: pillow>=6.2.0 in c:\\users\\user\\anaconda3\\lib\\site-packages (from matplotlib) (8.4.0)\n",
      "Requirement already satisfied: pyparsing>=2.2.1 in c:\\users\\user\\anaconda3\\lib\\site-packages (from matplotlib) (3.0.4)\n",
      "Requirement already satisfied: wheel<1.0,>=0.23.0 in c:\\users\\user\\anaconda3\\lib\\site-packages (from astunparse>=1.6.0->tensorflow) (0.37.0)\n",
      "Requirement already satisfied: google-auth<3,>=1.6.3 in c:\\users\\user\\anaconda3\\lib\\site-packages (from tensorboard<2.11,>=2.10->tensorflow) (2.14.1)\n",
      "Requirement already satisfied: google-auth-oauthlib<0.5,>=0.4.1 in c:\\users\\user\\anaconda3\\lib\\site-packages (from tensorboard<2.11,>=2.10->tensorflow) (0.4.6)\n",
      "Requirement already satisfied: markdown>=2.6.8 in c:\\users\\user\\anaconda3\\lib\\site-packages (from tensorboard<2.11,>=2.10->tensorflow) (3.4.1)\n",
      "Requirement already satisfied: requests<3,>=2.21.0 in c:\\users\\user\\anaconda3\\lib\\site-packages (from tensorboard<2.11,>=2.10->tensorflow) (2.23.0)\n",
      "Requirement already satisfied: tensorboard-data-server<0.7.0,>=0.6.0 in c:\\users\\user\\anaconda3\\lib\\site-packages (from tensorboard<2.11,>=2.10->tensorflow) (0.6.1)\n",
      "Requirement already satisfied: tensorboard-plugin-wit>=1.6.0 in c:\\users\\user\\anaconda3\\lib\\site-packages (from tensorboard<2.11,>=2.10->tensorflow) (1.8.1)\n",
      "Requirement already satisfied: werkzeug>=1.0.1 in c:\\users\\user\\anaconda3\\lib\\site-packages (from tensorboard<2.11,>=2.10->tensorflow) (2.0.2)\n",
      "Requirement already satisfied: cachetools<6.0,>=2.0.0 in c:\\users\\user\\anaconda3\\lib\\site-packages (from google-auth<3,>=1.6.3->tensorboard<2.11,>=2.10->tensorflow) (5.2.0)\n",
      "Requirement already satisfied: pyasn1-modules>=0.2.1 in c:\\users\\user\\anaconda3\\lib\\site-packages (from google-auth<3,>=1.6.3->tensorboard<2.11,>=2.10->tensorflow) (0.2.8)\n",
      "Requirement already satisfied: rsa<5,>=3.1.4 in c:\\users\\user\\anaconda3\\lib\\site-packages (from google-auth<3,>=1.6.3->tensorboard<2.11,>=2.10->tensorflow) (4.9)\n",
      "Requirement already satisfied: requests-oauthlib>=0.7.0 in c:\\users\\user\\anaconda3\\lib\\site-packages (from google-auth-oauthlib<0.5,>=0.4.1->tensorboard<2.11,>=2.10->tensorflow) (1.3.1)\n",
      "Requirement already satisfied: importlib-metadata>=4.4 in c:\\users\\user\\anaconda3\\lib\\site-packages (from markdown>=2.6.8->tensorboard<2.11,>=2.10->tensorflow) (4.8.1)\n",
      "Requirement already satisfied: chardet<4,>=3.0.2 in c:\\users\\user\\anaconda3\\lib\\site-packages (from requests<3,>=2.21.0->tensorboard<2.11,>=2.10->tensorflow) (3.0.4)\n",
      "Requirement already satisfied: idna<3,>=2.5 in c:\\users\\user\\anaconda3\\lib\\site-packages (from requests<3,>=2.21.0->tensorboard<2.11,>=2.10->tensorflow) (2.10)\n",
      "Requirement already satisfied: urllib3!=1.25.0,!=1.25.1,<1.26,>=1.21.1 in c:\\users\\user\\anaconda3\\lib\\site-packages (from requests<3,>=2.21.0->tensorboard<2.11,>=2.10->tensorflow) (1.25.11)\n",
      "Requirement already satisfied: certifi>=2017.4.17 in c:\\users\\user\\anaconda3\\lib\\site-packages (from requests<3,>=2.21.0->tensorboard<2.11,>=2.10->tensorflow) (2021.10.8)\n",
      "Requirement already satisfied: zipp>=0.5 in c:\\users\\user\\anaconda3\\lib\\site-packages (from importlib-metadata>=4.4->markdown>=2.6.8->tensorboard<2.11,>=2.10->tensorflow) (3.6.0)\n",
      "Requirement already satisfied: pyasn1<0.5.0,>=0.4.6 in c:\\users\\user\\anaconda3\\lib\\site-packages (from pyasn1-modules>=0.2.1->google-auth<3,>=1.6.3->tensorboard<2.11,>=2.10->tensorflow) (0.4.8)\n",
      "Requirement already satisfied: oauthlib>=3.0.0 in c:\\users\\user\\anaconda3\\lib\\site-packages (from requests-oauthlib>=0.7.0->google-auth-oauthlib<0.5,>=0.4.1->tensorboard<2.11,>=2.10->tensorflow) (3.2.1)\n",
      "Note: you may need to restart the kernel to use updated packages.\n"
     ]
    },
    {
     "name": "stderr",
     "output_type": "stream",
     "text": [
      "WARNING: Error parsing dependencies of pyodbc: Invalid version: '4.0.0-unsupported'\n"
     ]
    }
   ],
   "source": [
    "pip install tensorflow pandas numpy matplotlib opencv-python"
   ]
  },
  {
   "cell_type": "code",
   "execution_count": 6,
   "id": "614b2892",
   "metadata": {
    "collapsed": true
   },
   "outputs": [
    {
     "name": "stdout",
     "output_type": "stream",
     "text": [
      "Requirement already satisfied: pip in c:\\users\\user\\anaconda3\\lib\\site-packages (24.1.1)\n",
      "Requirement already satisfied: setuptools in c:\\users\\user\\anaconda3\\lib\\site-packages (65.3.0)\n",
      "Collecting setuptools\n",
      "  Downloading setuptools-70.1.1-py3-none-any.whl.metadata (6.0 kB)\n",
      "Downloading setuptools-70.1.1-py3-none-any.whl (883 kB)\n",
      "   ---------------------------------------- 883.3/883.3 kB 1.2 MB/s eta 0:00:00\n",
      "Installing collected packages: setuptools\n",
      "  Attempting uninstall: setuptools\n",
      "    Found existing installation: setuptools 65.3.0\n",
      "    Uninstalling setuptools-65.3.0:\n",
      "      Successfully uninstalled setuptools-65.3.0\n",
      "Successfully installed setuptools-70.1.1\n",
      "Note: you may need to restart the kernel to use updated packages.\n"
     ]
    },
    {
     "name": "stderr",
     "output_type": "stream",
     "text": [
      "WARNING: Error parsing dependencies of pyodbc: Invalid version: '4.0.0-unsupported'\n",
      "ERROR: pip's dependency resolver does not currently take into account all the packages that are installed. This behaviour is the source of the following dependency conflicts.\n",
      "anaconda-project 0.10.1 requires ruamel-yaml, which is not installed.\n",
      "conda-repo-cli 1.0.4 requires pathlib, which is not installed.\n",
      "spyder 5.1.5 requires pyqt5<5.13, which is not installed.\n",
      "spyder 5.1.5 requires pyqtwebengine<5.13, which is not installed.\n"
     ]
    }
   ],
   "source": [
    "pip install --upgrade pip setuptools"
   ]
  },
  {
   "cell_type": "code",
   "execution_count": 23,
   "id": "6f6781e7",
   "metadata": {},
   "outputs": [],
   "source": [
    "# import important libraries\n",
    "\n",
    "import pandas as pd\n",
    "import numpy as np\n",
    "import tensorflow as tf\n",
    "from tensorflow.keras.models import Sequential\n",
    "from tensorflow.keras.layers import Conv2D, MaxPooling2D, Flatten, Dense, Dropout\n",
    "#from tensorflow.keras.preprocessing.image import ImageDataGenerator\n",
    "import matplotlib.pyplot as plt\n",
    "import cv2"
   ]
  },
  {
   "cell_type": "code",
   "execution_count": 11,
   "id": "d95aacef",
   "metadata": {},
   "outputs": [
    {
     "name": "stdout",
     "output_type": "stream",
     "text": [
      "Found 28709 files belonging to 7 classes.\n",
      "Found 3589 files belonging to 7 classes.\n",
      "Found 3589 files belonging to 7 classes.\n"
     ]
    }
   ],
   "source": [
    "# load and preprocess the data\n",
    "\n",
    "batch_size = 32\n",
    "img_height = 48\n",
    "img_width = 48\n",
    "\n",
    "train_ds = tf.keras.preprocessing.image_dataset_from_directory(\"data/train\", \n",
    "                                                               image_size = (img_height, img_width), \n",
    "                                                              batch_size = batch_size , \n",
    "                                                              color_mode = \"grayscale\") \n",
    "\n",
    "test_ds = tf.keras.preprocessing.image_dataset_from_directory(\"data/test\", \n",
    "                                                               image_size = (img_height, img_width), \n",
    "                                                              batch_size = batch_size , \n",
    "                                                              color_mode = \"grayscale\") \n",
    "\n",
    "val_ds = tf.keras.preprocessing.image_dataset_from_directory(\"data/val\", \n",
    "                                                               image_size = (img_height, img_width), \n",
    "                                                              batch_size = batch_size , \n",
    "                                                              color_mode = \"grayscale\") \n",
    "\n",
    "normalization_layer = tf.keras.layers.Rescaling(1./255)\n",
    "\n",
    "train_ds = train_ds.map(lambda x, y: (normalization_layer(x), tf.one_hot(y,depth = 7)))\n",
    "test_ds = test_ds.map(lambda x, y: (normalization_layer(x), tf.one_hot(y,depth = 7)))\n",
    "val_ds = val_ds.map(lambda x, y: (normalization_layer(x), tf.one_hot(y,depth = 7)))"
   ]
  },
  {
   "cell_type": "code",
   "execution_count": 16,
   "id": "f7b34c8e",
   "metadata": {},
   "outputs": [
    {
     "name": "stdout",
     "output_type": "stream",
     "text": [
      "Model: \"sequential\"\n",
      "_________________________________________________________________\n",
      " Layer (type)                Output Shape              Param #   \n",
      "=================================================================\n",
      " conv2d (Conv2D)             (None, 46, 46, 32)        320       \n",
      "                                                                 \n",
      " max_pooling2d (MaxPooling2D  (None, 23, 23, 32)       0         \n",
      " )                                                               \n",
      "                                                                 \n",
      " conv2d_1 (Conv2D)           (None, 21, 21, 64)        18496     \n",
      "                                                                 \n",
      " max_pooling2d_1 (MaxPooling  (None, 10, 10, 64)       0         \n",
      " 2D)                                                             \n",
      "                                                                 \n",
      " conv2d_2 (Conv2D)           (None, 8, 8, 128)         73856     \n",
      "                                                                 \n",
      " max_pooling2d_2 (MaxPooling  (None, 4, 4, 128)        0         \n",
      " 2D)                                                             \n",
      "                                                                 \n",
      " flatten (Flatten)           (None, 2048)              0         \n",
      "                                                                 \n",
      " dense (Dense)               (None, 128)               262272    \n",
      "                                                                 \n",
      " dropout (Dropout)           (None, 128)               0         \n",
      "                                                                 \n",
      " dense_1 (Dense)             (None, 7)                 903       \n",
      "                                                                 \n",
      "=================================================================\n",
      "Total params: 355,847\n",
      "Trainable params: 355,847\n",
      "Non-trainable params: 0\n",
      "_________________________________________________________________\n"
     ]
    }
   ],
   "source": [
    "# Build model\n",
    "\n",
    "model = Sequential([\n",
    "        Conv2D(32,(3,3), activation = 'relu',\n",
    "              input_shape = (img_height, img_width,1)),\n",
    "        MaxPooling2D((2,2)),\n",
    "        Conv2D(64,(3,3), activation = 'relu'),\n",
    "        MaxPooling2D((2,2)), \n",
    "        Conv2D(128,(3,3), activation = 'relu'),\n",
    "        MaxPooling2D((2,2)),\n",
    "        Flatten(),\n",
    "        Dense(128, activation = 'relu'),\n",
    "        Dropout(0.5),\n",
    "        Dense(7, activation = 'softmax')\n",
    "    ])\n",
    "\n",
    "model.compile(optimizer = 'adam', \n",
    "             loss = 'categorical_crossentropy',\n",
    "             metrics = ['accuracy']\n",
    "             )\n",
    "\n",
    "model.summary()"
   ]
  },
  {
   "cell_type": "code",
   "execution_count": 17,
   "id": "48da46ce",
   "metadata": {},
   "outputs": [
    {
     "name": "stdout",
     "output_type": "stream",
     "text": [
      "Epoch 1/30\n",
      "898/898 [==============================] - 64s 70ms/step - loss: 1.7315 - accuracy: 0.2958 - val_loss: 1.5506 - val_accuracy: 0.3918\n",
      "Epoch 2/30\n",
      "898/898 [==============================] - 72s 81ms/step - loss: 1.4932 - accuracy: 0.4261 - val_loss: 1.3454 - val_accuracy: 0.4912\n",
      "Epoch 3/30\n",
      "898/898 [==============================] - 65s 72ms/step - loss: 1.3732 - accuracy: 0.4727 - val_loss: 1.2757 - val_accuracy: 0.5155\n",
      "Epoch 4/30\n",
      "898/898 [==============================] - 62s 69ms/step - loss: 1.2943 - accuracy: 0.5048 - val_loss: 1.2525 - val_accuracy: 0.5149\n",
      "Epoch 5/30\n",
      "898/898 [==============================] - 62s 69ms/step - loss: 1.2440 - accuracy: 0.5280 - val_loss: 1.2155 - val_accuracy: 0.5316\n",
      "Epoch 6/30\n",
      "898/898 [==============================] - 64s 71ms/step - loss: 1.1911 - accuracy: 0.5483 - val_loss: 1.2157 - val_accuracy: 0.5311\n",
      "Epoch 7/30\n",
      "898/898 [==============================] - 65s 72ms/step - loss: 1.1495 - accuracy: 0.5619 - val_loss: 1.1945 - val_accuracy: 0.5380\n",
      "Epoch 8/30\n",
      "898/898 [==============================] - 65s 72ms/step - loss: 1.1095 - accuracy: 0.5741 - val_loss: 1.1947 - val_accuracy: 0.5436\n",
      "Epoch 9/30\n",
      "898/898 [==============================] - 78s 87ms/step - loss: 1.0735 - accuracy: 0.5913 - val_loss: 1.2090 - val_accuracy: 0.5419\n",
      "Epoch 10/30\n",
      "898/898 [==============================] - 73s 81ms/step - loss: 1.0419 - accuracy: 0.6056 - val_loss: 1.2061 - val_accuracy: 0.5458\n",
      "Epoch 11/30\n",
      "898/898 [==============================] - 66s 74ms/step - loss: 1.0053 - accuracy: 0.6169 - val_loss: 1.2139 - val_accuracy: 0.5553\n",
      "Epoch 12/30\n",
      "898/898 [==============================] - 75s 84ms/step - loss: 0.9772 - accuracy: 0.6245 - val_loss: 1.2529 - val_accuracy: 0.5548\n",
      "Epoch 13/30\n",
      "898/898 [==============================] - 73s 82ms/step - loss: 0.9407 - accuracy: 0.6388 - val_loss: 1.2475 - val_accuracy: 0.5531\n",
      "Epoch 14/30\n",
      "898/898 [==============================] - 76s 85ms/step - loss: 0.9200 - accuracy: 0.6463 - val_loss: 1.2640 - val_accuracy: 0.5469\n",
      "Epoch 15/30\n",
      "898/898 [==============================] - 74s 82ms/step - loss: 0.8845 - accuracy: 0.6613 - val_loss: 1.3799 - val_accuracy: 0.5425\n",
      "Epoch 16/30\n",
      "898/898 [==============================] - 76s 85ms/step - loss: 0.8629 - accuracy: 0.6677 - val_loss: 1.3132 - val_accuracy: 0.5500\n",
      "Epoch 17/30\n",
      "898/898 [==============================] - 72s 80ms/step - loss: 0.8356 - accuracy: 0.6775 - val_loss: 1.3746 - val_accuracy: 0.5545\n",
      "Epoch 18/30\n",
      "898/898 [==============================] - 72s 80ms/step - loss: 0.8129 - accuracy: 0.6895 - val_loss: 1.4063 - val_accuracy: 0.5553\n",
      "Epoch 19/30\n",
      "898/898 [==============================] - 74s 82ms/step - loss: 0.7823 - accuracy: 0.6951 - val_loss: 1.4404 - val_accuracy: 0.5475\n",
      "Epoch 20/30\n",
      "898/898 [==============================] - 75s 84ms/step - loss: 0.7577 - accuracy: 0.7053 - val_loss: 1.4474 - val_accuracy: 0.5444\n",
      "Epoch 21/30\n",
      "898/898 [==============================] - 71s 79ms/step - loss: 0.7442 - accuracy: 0.7127 - val_loss: 1.5394 - val_accuracy: 0.5352\n",
      "Epoch 22/30\n",
      "898/898 [==============================] - 75s 84ms/step - loss: 0.7280 - accuracy: 0.7125 - val_loss: 1.5579 - val_accuracy: 0.5489\n",
      "Epoch 23/30\n",
      "898/898 [==============================] - 70s 78ms/step - loss: 0.7024 - accuracy: 0.7269 - val_loss: 1.5878 - val_accuracy: 0.5497\n",
      "Epoch 24/30\n",
      "898/898 [==============================] - 69s 76ms/step - loss: 0.6815 - accuracy: 0.7306 - val_loss: 1.6307 - val_accuracy: 0.5486\n",
      "Epoch 25/30\n",
      "898/898 [==============================] - 69s 76ms/step - loss: 0.6612 - accuracy: 0.7394 - val_loss: 1.7190 - val_accuracy: 0.5447\n",
      "Epoch 26/30\n",
      "898/898 [==============================] - 70s 77ms/step - loss: 0.6587 - accuracy: 0.7383 - val_loss: 1.7327 - val_accuracy: 0.5447\n",
      "Epoch 27/30\n",
      "898/898 [==============================] - 71s 79ms/step - loss: 0.6381 - accuracy: 0.7480 - val_loss: 1.7400 - val_accuracy: 0.5464\n",
      "Epoch 28/30\n",
      "898/898 [==============================] - 73s 81ms/step - loss: 0.6165 - accuracy: 0.7554 - val_loss: 1.8274 - val_accuracy: 0.5411\n",
      "Epoch 29/30\n",
      "898/898 [==============================] - 73s 82ms/step - loss: 0.6196 - accuracy: 0.7529 - val_loss: 1.8671 - val_accuracy: 0.5458\n",
      "Epoch 30/30\n",
      "898/898 [==============================] - 72s 79ms/step - loss: 0.6057 - accuracy: 0.7581 - val_loss: 1.8410 - val_accuracy: 0.5447\n"
     ]
    }
   ],
   "source": [
    "# train the model \n",
    "\n",
    "history = model.fit(\n",
    "         train_ds,\n",
    "        validation_data = val_ds,\n",
    "    epochs = 30\n",
    ")"
   ]
  },
  {
   "cell_type": "code",
   "execution_count": 18,
   "id": "e3a5f0fe",
   "metadata": {},
   "outputs": [
    {
     "name": "stdout",
     "output_type": "stream",
     "text": [
      "113/113 [==============================] - 2s 19ms/step - loss: 1.7401 - accuracy: 0.5606\n",
      "Test Loss: 1.740148663520813\n",
      "Test Accuracy: 0.5606018304824829\n"
     ]
    }
   ],
   "source": [
    "# evaluate model\n",
    "\n",
    "test_loss, test_acc = model.evaluate(test_ds)\n",
    "print(f'Test Loss: {test_loss}')\n",
    "print(f'Test Accuracy: {test_acc}')"
   ]
  },
  {
   "cell_type": "code",
   "execution_count": 20,
   "id": "e4469020",
   "metadata": {},
   "outputs": [
    {
     "data": {
      "image/png": "[encoded data removed]",
      "text/plain": [
       "<Figure size 864x360 with 1 Axes>"
      ]
     },
     "metadata": {
      "needs_background": "light"
     },
     "output_type": "display_data"
    }
   ],
   "source": [
    "# visualize the training history\n",
    "\n",
    "plt.figure(figsize = (12,5))\n",
    "\n",
    "# plot accuracy\n",
    "plt.subplot(1,2,1)\n",
    "plt.plot(history.history['accuracy'], label='Training Accuracy')\n",
    "plt.plot(history.history['val_accuracy'], label = 'validation accuracy')\n",
    "plt.xlabel('Epoch')\n",
    "plt.ylabel('Accuracy')\n",
    "plt.legend()\n",
    "\n",
    "# plot loss\n",
    "plt.subplot(1,2,1)\n",
    "plt.plot(history.history['accuracy'], label='Training loss')\n",
    "plt.plot(history.history['val_accuracy'], label = 'validation loss')\n",
    "plt.xlabel('Epoch')\n",
    "plt.ylabel('loss')\n",
    "plt.legend()\n",
    "\n",
    "\n",
    "plt.show()"
   ]
  },
  {
   "cell_type": "code",
   "execution_count": 34,
   "id": "f222832f",
   "metadata": {},
   "outputs": [],
   "source": [
    "# prediction inference \n",
    "\n",
    "def predict_emotion(image_path):\n",
    "    img = cv2.imread(image_path, cv2.IMREAD_GRAYSCALE)\n",
    "    img = cv2.resize(img,(48,48))\n",
    "    img = img.reshape(1,48,48,1)/255.0\n",
    "    prediction = model.predict(img)\n",
    "    emotion_label = ['Angry', 'Disgust', 'Happy', 'Sad', 'Neutral', 'Surprise','Fear']\n",
    "    predicted_emotion = emotion_label[np.argmax(prediction)]\n",
    "    return predict_emotion"
   ]
  },
  {
   "cell_type": "code",
   "execution_count": 36,
   "id": "c4fba49d",
   "metadata": {},
   "outputs": [],
   "source": [
    "def predict_emotion(image_path):\n",
    "    img = cv2.imread(image_path, cv2.IMREAD_GRAYSCALE)\n",
    "    img = cv2.resize(img, (48, 48))\n",
    "    img = img.reshape(1, 48, 48, 1) / 255.0\n",
    "    prediction = model.predict(img)\n",
    "    emotion_label = ['Angry', 'Disgust', 'Happy', 'Sad', 'Neutral', 'Surprise', 'Fear']\n",
    "    predicted_emotion = emotion_label[np.argmax(prediction)]\n",
    "    return predicted_emotion  # Return"
   ]
  },
  {
   "cell_type": "code",
   "execution_count": 40,
   "id": "66142a9b",
   "metadata": {},
   "outputs": [
    {
     "name": "stdout",
     "output_type": "stream",
     "text": [
      "1/1 [==============================] - 0s 44ms/step\n",
      "predicted_emotion: Sad\n"
     ]
    }
   ],
   "source": [
    "# Example\n",
    "image_path = '5r.jpg'\n",
    "predicted_emotion = predict_emotion(image_path)  # Remove the unary negation operator '-'\n",
    "print(f'predicted_emotion: {predicted_emotion}')"
   ]
  },
  {
   "cell_type": "code",
   "execution_count": null,
   "id": "20db4bb6",
   "metadata": {},
   "outputs": [],
   "source": []
  },
  {
   "cell_type": "code",
   "execution_count": null,
   "id": "2a397d11",
   "metadata": {},
   "outputs": [],
   "source": []
  }
 ],
 "metadata": {
  "kernelspec": {
   "display_name": "Python 3 (ipykernel)",
   "language": "python",
   "name": "python3"
  },
  "language_info": {
   "codemirror_mode": {
    "name": "ipython",
    "version": 3
   },
   "file_extension": ".py",
   "mimetype": "text/x-python",
   "name": "python",
   "nbconvert_exporter": "python",
   "pygments_lexer": "ipython3",
   "version": "3.9.7"
  }
 },
 "nbformat": 4,
 "nbformat_minor": 5
}
